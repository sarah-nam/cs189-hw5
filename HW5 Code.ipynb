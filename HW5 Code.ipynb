{
 "cells": [
  {
   "cell_type": "code",
   "execution_count": 268,
   "metadata": {},
   "outputs": [],
   "source": [
    "import io\n",
    "from collections import Counter\n",
    "\n",
    "import numpy as np\n",
    "import scipy.io\n",
    "import sklearn.model_selection\n",
    "import sklearn.tree\n",
    "from numpy import genfromtxt\n",
    "from scipy import stats\n",
    "from sklearn.base import BaseEstimator, ClassifierMixin\n",
    "import statistics\n",
    "import matplotlib.pyplot as plt\n",
    "\n",
    "import pandas as pd\n",
    "import pydot\n",
    "import gprof2dot"
   ]
  },
  {
   "cell_type": "markdown",
   "metadata": {},
   "source": [
    "### 3.1"
   ]
  },
  {
   "cell_type": "code",
   "execution_count": 177,
   "metadata": {},
   "outputs": [],
   "source": [
    "np.random.seed(59)\n",
    "\n",
    "eps = 1e-5  # a small number\n",
    "\n",
    "\n",
    "class DecisionTree:\n",
    "    def __init__(self, max_depth=3, feature_labels=None, my_feats=None):\n",
    "        self.max_depth = max_depth\n",
    "        self.features = feature_labels\n",
    "        self.my_feats = None\n",
    "        self.left, self.right = None, None  # for non-leaf nodes\n",
    "        self.split_idx, self.thresh = None, None  # for non-leaf nodes\n",
    "        self.data, self.pred = None, None  # for leaf nodes\n",
    "        self.my_split = None \n",
    "        self.my_thresh = None\n",
    "\n",
    "    @staticmethod\n",
    "    def information_gain(X, y, thresh):\n",
    "        # TODO implement information gain function\n",
    "        # H_after - H_before where H_after is a weighted average \n",
    "        # of the GINI IMPURITY of the left and right nodes\n",
    "        before_1 = np.count_nonzero(y)/len(y)\n",
    "        before_0 = 1 - before_1\n",
    "        before_H = before_1*(1-before_1) + before_0*(1-before_0)\n",
    "        \n",
    "        # Splitting with threshold\n",
    "        after_l_idx = [i for i in np.arange(0, len(X)) if X[i] < thresh]\n",
    "        after_r_idx = [i for i in np.arange(0, len(X)) if X[i] >= thresh]\n",
    "        # Finding left and right data sets\n",
    "        l_y = y[after_l_idx]\n",
    "        l_X = X[after_l_idx]\n",
    "        r_y = y[after_r_idx]\n",
    "        r_X = X[after_r_idx]\n",
    "        \n",
    "        # Calculating impurities, setting to 0 if there is nothing in the branch\n",
    "        imp_r = 0\n",
    "        imp_l = 0\n",
    "        \n",
    "        if len(r_y) != 0:\n",
    "            p_1_r = np.count_nonzero(r_y)/len(r_y)\n",
    "            p_0_r = 1 - p_1_r\n",
    "            imp_r = p_1_r*(1-p_1_r) + p_0_r*(1-p_0_r)\n",
    "        if len(l_y) != 0:\n",
    "            p_1_l = np.count_nonzero(l_y)/len(l_y)\n",
    "            p_0_l = 1 - p_1_l\n",
    "            imp_l = p_1_l*(1-p_1_l) + p_0_l*(1-p_0_l)\n",
    "        \n",
    "        after_H = (len(l_y)*imp_l + len(r_y)*imp_r)/(len(y))\n",
    "        \n",
    "        return before_H - after_H\n",
    "\n",
    "    @staticmethod\n",
    "    def gini_impurity(X, y, thresh):\n",
    "        # TODO implement gini_impurity function\n",
    "        # Done! But I never used it :/\n",
    "        p_1 = sum(y)/len(y)\n",
    "        p_0 = (1 - p_1)/len(y)\n",
    "        gini = p_1*(1-p_1) + p_0*(1-p_0)\n",
    "        return gini\n",
    "\n",
    "    def split(self, X, y, idx, thresh):\n",
    "        X0, idx0, X1, idx1 = self.split_test(X, idx=idx, thresh=thresh)\n",
    "        y0, y1 = y[idx0], y[idx1]\n",
    "        return X0, y0, X1, y1\n",
    "\n",
    "    def split_test(self, X, idx, thresh):\n",
    "        idx0 = np.where(X[:, idx] < thresh)[0]\n",
    "        idx1 = np.where(X[:, idx] >= thresh)[0]\n",
    "        X0, X1 = X[idx0, :], X[idx1, :]\n",
    "        return X0, idx0, X1, idx1\n",
    "\n",
    "    def fit(self, X, y, m=0):\n",
    "        if m != 0:\n",
    "            rand_feats = np.random.choice(X.shape[1], m)\n",
    "            X_ = X[:, rand_feats]\n",
    "            self.my_feats = self.features[rand_feats]\n",
    "        else:\n",
    "            X_ = X\n",
    "        if self.max_depth > 0:\n",
    "            # compute entropy gain for all single-dimension splits,\n",
    "            # thresholding with a linear interpolation of 10 values\n",
    "            gains = []\n",
    "            # The following logic prevents thresholding on exactly the minimum\n",
    "            # or maximum values, which may not lead to any meaningful node\n",
    "            # splits.\n",
    "            thresh = np.array([\n",
    "                np.linspace(np.min(X_[:, i]) + eps, np.max(X_[:, i]) - eps, num=10)\n",
    "                for i in range(X_.shape[1])\n",
    "            ])\n",
    "            for i in range(X_.shape[1]):\n",
    "                gains.append([self.information_gain(X_[:, i], y, t) for t in thresh[i, :]])\n",
    "\n",
    "            gains = np.nan_to_num(np.array(gains))\n",
    "            self.split_idx, thresh_idx = np.unravel_index(np.argmax(gains), gains.shape)\n",
    "            self.thresh = thresh[self.split_idx, thresh_idx]\n",
    "            X0, y0, X1, y1 = self.split(X_, y, idx=self.split_idx, thresh=self.thresh)\n",
    "            \n",
    "            if X0.size > 0 and X1.size > 0:\n",
    "                self.left = DecisionTree(\n",
    "                    max_depth=self.max_depth - 1, feature_labels=self.features)\n",
    "                self.left.fit(X0, y0, m)\n",
    "                self.right = DecisionTree(\n",
    "                    max_depth=self.max_depth - 1, feature_labels=self.features)\n",
    "                self.right.fit(X1, y1, m)\n",
    "            else:\n",
    "                self.max_depth = 0\n",
    "                self.data, self.labels = X_, y\n",
    "                self.pred = stats.mode(y).mode[0]\n",
    "        else:\n",
    "            self.data, self.labels = X_, y\n",
    "            self.pred = stats.mode(y).mode[0]\n",
    "        return self\n",
    "\n",
    "    def predict(self, X):\n",
    "        if self.max_depth == 0:\n",
    "            return self.pred * np.ones(X.shape[0])\n",
    "        else:\n",
    "            X0, idx0, X1, idx1 = self.split_test(X, idx=self.split_idx, thresh=self.thresh)\n",
    "            yhat = np.zeros(X.shape[0])\n",
    "            yhat[idx0] = self.left.predict(X0)\n",
    "            yhat[idx1] = self.right.predict(X1)\n",
    "            return yhat"
   ]
  },
  {
   "cell_type": "markdown",
   "metadata": {},
   "source": [
    "### 3.2"
   ]
  },
  {
   "cell_type": "code",
   "execution_count": 178,
   "metadata": {},
   "outputs": [],
   "source": [
    "np.random.seed(84)\n",
    "class BaggedTrees:\n",
    "    def __init__(self, max_depth=3, n=200):\n",
    "        self.n = n\n",
    "        self.trees = [DecisionTree(max_depth=max_depth) for i in np.arange(self.n)]\n",
    "        self.max_depth = max_depth\n",
    "        \n",
    "    def fit(self, X, y, feature_labels):\n",
    "        # TODO implement function\n",
    "        # I hope this works?\n",
    "        for i in self.trees:\n",
    "            i.features = feature_labels\n",
    "            boot_idx = np.random.choice(len(y), len(y))\n",
    "            boot_y = y[boot_idx]\n",
    "            boot_X = X[boot_idx, :]\n",
    "            i.fit(boot_X, boot_y)\n",
    "        return self\n",
    "\n",
    "    def predict(self, X):\n",
    "        # TODO implement function\n",
    "        # Hope this is right? \n",
    "        # For BaggedTrees, I will use the mode of all trees as the prediction.\n",
    "        pred_mat = []\n",
    "        bag_preds = []\n",
    "        for tree in self.trees:\n",
    "            this = tree.predict(X)\n",
    "            pred_mat.append(this)\n",
    "        pred_mat = np.array(pred_mat)\n",
    "        for s in np.arange(len(X)):\n",
    "            all_preds = pred_mat[:, s]\n",
    "            if np.count_nonzero(all_preds) != .5*len(all_preds):\n",
    "                mode = statistics.mode(all_preds)\n",
    "            else:\n",
    "                mode = 0\n",
    "            bag_preds.append(mode)\n",
    "        return bag_preds"
   ]
  },
  {
   "cell_type": "code",
   "execution_count": 179,
   "metadata": {},
   "outputs": [],
   "source": [
    "np.random.seed(17)\n",
    "class RandomForest(BaggedTrees):\n",
    "    def __init__(self, max_depth=3, n=200, m=1):\n",
    "        BaggedTrees.__init__(self)\n",
    "        self.n = n\n",
    "        self.m = 1\n",
    "        \n",
    "    def fit(self, X, y, feature_labels):\n",
    "        self.m = int(np.rint(np.sqrt(X.shape[1])))\n",
    "        for tree in self.trees:\n",
    "            tree.features = feature_labels\n",
    "            boot_idx = np.random.choice(len(y), len(y))\n",
    "            boot_y = y[boot_idx]\n",
    "            boot_X = X[boot_idx, :]\n",
    "            tree.features = feature_labels\n",
    "            tree.fit(boot_X, boot_y, self.m)\n",
    "        return self\n",
    "    def predict(self, X):\n",
    "        return BaggedTrees.predict(self, X)"
   ]
  },
  {
   "cell_type": "markdown",
   "metadata": {},
   "source": [
    "### Data Processing and Cleaning, Debugging"
   ]
  },
  {
   "cell_type": "code",
   "execution_count": 180,
   "metadata": {},
   "outputs": [],
   "source": [
    "titanic_data = pd.read_csv('titanic_training.csv')\n",
    "titanic_labels = titanic_data.iloc[:, 0].values\n",
    "titanic_X = titanic_data.drop('survived', axis=1)\n",
    "titanic_test = pd.read_csv('titanic_testing_data.csv')\n",
    "\n",
    "def titanic_process(data):\n",
    "    # dropping unhelpful features\n",
    "    data = data.drop(['ticket', 'cabin'], axis=1)\n",
    "    # filling NaN values with mode\n",
    "    for col in data.columns:\n",
    "        mode = data[col].value_counts().index[0]\n",
    "        data[col] = data[col].fillna(mode)\n",
    "    \n",
    "    # one-hot encoding the categorical variables\n",
    "    sex_onehot = pd.get_dummies(data['sex'],prefix='sex')\n",
    "    embark_onehot = pd.get_dummies(data['embarked'], prefix='embarked')\n",
    "    data = pd.concat([data,sex_onehot],axis=1).drop(['sex'],axis=1)\n",
    "    data = pd.concat([data,embark_onehot],axis=1).drop(['embarked'],axis=1)\n",
    "    \n",
    "    return data\n",
    "\n",
    "# making matrices of the feature values\n",
    "titanic_X = titanic_process(titanic_X)\n",
    "titanic_test = titanic_process(titanic_test)"
   ]
  },
  {
   "cell_type": "code",
   "execution_count": 181,
   "metadata": {},
   "outputs": [],
   "source": [
    "# Trying to see if my data cleaning worked\n",
    "dt = DecisionTree(max_depth=5, feature_labels=titanic_X.columns)\n",
    "dt.fit(titanic_X.values, titanic_labels)\n",
    "dt_preds = dt.predict(titanic_test.values)"
   ]
  },
  {
   "cell_type": "code",
   "execution_count": 182,
   "metadata": {},
   "outputs": [],
   "source": [
    "# Seems like the RandomForest works on titanic data.\n",
    "t_rf = RandomForest(max_depth=5, n=200)\n",
    "t_rf.fit(titanic_X.values, titanic_labels, titanic_X.columns)\n",
    "t_rf_preds = t_rf.predict(titanic_test.values)"
   ]
  },
  {
   "cell_type": "code",
   "execution_count": 183,
   "metadata": {},
   "outputs": [
    {
     "data": {
      "text/plain": [
       "215"
      ]
     },
     "execution_count": 183,
     "metadata": {},
     "output_type": "execute_result"
    }
   ],
   "source": [
    "# most of the predicted values are the same\n",
    "np.sum(dt_preds == t_rf_preds)"
   ]
  },
  {
   "cell_type": "code",
   "execution_count": 277,
   "metadata": {},
   "outputs": [
    {
     "data": {
      "text/plain": [
       "0"
      ]
     },
     "execution_count": 277,
     "metadata": {},
     "output_type": "execute_result"
    }
   ],
   "source": [
    "# Loading spam data, with the help of the starter code\n",
    "features = [\n",
    "            \"pain\", \"private\", \"bank\", \"money\", \"drug\", \"spam\", \"prescription\", \"creative\",\n",
    "            \"height\", \"featured\", \"differ\", \"width\", \"other\", \"energy\", \"business\", \"message\",\n",
    "            \"volumes\", \"revision\", \"path\", \"meter\", \"memo\", \"planning\", \"pleased\", \"record\", \"out\",\n",
    "            \"semicolon\", \"dollar\", \"sharp\", \"exclamation\", \"parenthesis\", \"square_bracket\",\n",
    "            \"ampersand\"\n",
    "        ]\n",
    "assert len(features) == 32\n",
    "\n",
    "data = scipy.io.loadmat('spam_data.mat')\n",
    "spam_train = data['training_data']\n",
    "spam_labels = np.squeeze(data['training_labels'])\n",
    "spam_test = data['test_data']\n",
    "\n",
    "# Verifying that there are no missing values in the spam data\n",
    "np.sum(np.isnan(spam_train))\n",
    "np.sum(np.isnan(spam_test))\n",
    "np.sum(np.isnan(spam_labels))"
   ]
  },
  {
   "cell_type": "code",
   "execution_count": 160,
   "metadata": {},
   "outputs": [],
   "source": [
    "# Testing to see if this data will work with my decision trees...\n",
    "spam_dt = DecisionTree(max_depth=5, feature_labels=features)\n",
    "spam_dt.fit(spam_train, spam_labels)\n",
    "spam_dt_preds = spam_dt.predict(spam_test)\n",
    "# This also works! \n",
    "\n",
    "# What about RandomForest?\n",
    "\n",
    "spam_rf_test = RandomForest(max_depth=5, n=200)\n",
    "spam_rf_test.fit(spam_train, spam_labels, np.array(features))\n",
    "rf_preds = spam_rf_test.predict(spam_test)"
   ]
  },
  {
   "cell_type": "code",
   "execution_count": 161,
   "metadata": {},
   "outputs": [
    {
     "data": {
      "text/plain": [
       "0.7129929998292641"
      ]
     },
     "execution_count": 161,
     "metadata": {},
     "output_type": "execute_result"
    }
   ],
   "source": [
    "# Seems like most of these are\n",
    "np.sum(spam_dt_preds == rf_preds)/len(spam_dt_preds)"
   ]
  },
  {
   "cell_type": "markdown",
   "metadata": {},
   "source": [
    "### 3.4"
   ]
  },
  {
   "cell_type": "code",
   "execution_count": 260,
   "metadata": {},
   "outputs": [],
   "source": [
    "# Splitting train and validation data for titanic dataset\n",
    "X_train, X_test, y_train, y_test = sklearn.model_selection.train_test_split(\n",
    "    titanic_X.values, titanic_labels, test_size=0.20, random_state=42)"
   ]
  },
  {
   "cell_type": "code",
   "execution_count": 163,
   "metadata": {},
   "outputs": [
    {
     "name": "stdout",
     "output_type": "stream",
     "text": [
      "The training accuracy of the decision tree on the titanic dataset is 0.8275\n",
      "The validation accuracy of the decision tree on the titanic dataset is 0.835\n",
      "The training accuracy of the random forest on the titanic dataset is 0.67125\n",
      "The validation accuracy of the random forest on the titanic dataset is 0.675\n"
     ]
    }
   ],
   "source": [
    "# Training and validation accuracies for Titanic dataset\n",
    "rec_dt_t = DecisionTree(max_depth=5, feature_labels=titanic_X.columns)\n",
    "rec_dt_t.fit(X_train, y_train)\n",
    "rec_dt_t_tr = np.sum(rec_dt_t.predict(X_train) == y_train)/len(y_train)\n",
    "rec_dt_t_acc = np.sum(rec_dt_t.predict(X_test) == y_test)/len(y_test)\n",
    "print(\"The training accuracy of the decision tree on the titanic dataset is \" + str(rec_dt_t_tr))\n",
    "print(\"The validation accuracy of the decision tree on the titanic dataset is \" + str(rec_dt_t_acc))\n",
    "\n",
    "rec_rf_t = RandomForest(max_depth=5, n=200)\n",
    "rec_rf_t.fit(X_train, y_train, titanic_X.columns)\n",
    "rec_rf_t_tr = np.sum(rec_rf_t.predict(X_train) == y_train)/len(y_train)\n",
    "rec_rf_t_acc = np.sum(rec_rf_t.predict(X_test) == y_test)/len(y_test)\n",
    "print(\"The training accuracy of the random forest on the titanic dataset is \" + str(rec_rf_t_tr))\n",
    "print(\"The validation accuracy of the random forest on the titanic dataset is \" + str(rec_rf_t_acc))"
   ]
  },
  {
   "cell_type": "code",
   "execution_count": 195,
   "metadata": {},
   "outputs": [],
   "source": [
    "# Splitting train and validation data for spam dataset\n",
    "X_trains, X_tests, y_trains, y_tests = sklearn.model_selection.train_test_split(\n",
    "    spam_train, spam_labels, test_size=0.20, random_state=50)"
   ]
  },
  {
   "cell_type": "code",
   "execution_count": 193,
   "metadata": {},
   "outputs": [
    {
     "name": "stdout",
     "output_type": "stream",
     "text": [
      "The training accuracy of the decision tree on the spam dataset is 0.8095238095238095\n",
      "The validation accuracy of the decision tree on the spam dataset is 0.8222222222222222\n",
      "The training accuracy of the random forest on the spam dataset is 0.708726130045927\n",
      "The validation accuracy of the random forest on the spam dataset is 0.714975845410628\n"
     ]
    }
   ],
   "source": [
    "# Training and validation accuracies for Spam dataset\n",
    "rec_dt_s = DecisionTree(max_depth=5, feature_labels=features)\n",
    "rec_dt_s.fit(X_trains, y_trains)\n",
    "rec_dt_s_tr = np.sum(rec_dt_s.predict(X_trains) == y_trains)/len(y_trains)\n",
    "rec_dt_s_acc = np.sum(rec_dt_s.predict(X_tests) == y_tests)/len(y_tests)\n",
    "print(\"The training accuracy of the decision tree on the spam dataset is \" + str(rec_dt_s_tr))\n",
    "print(\"The validation accuracy of the decision tree on the spam dataset is \" + str(rec_dt_s_acc))\n",
    "\n",
    "rec_rf_s = RandomForest(max_depth=5, n=200)\n",
    "rec_rf_s.fit(X_trains, y_trains, np.array(features))\n",
    "rec_rf_s_tr = np.sum(rec_rf_s.predict(X_trains) == y_trains)/len(y_trains)\n",
    "rec_rf_s_acc = np.sum(rec_rf_s.predict(X_tests) == y_tests)/len(y_tests)\n",
    "print(\"The training accuracy of the random forest on the spam dataset is \" + str(rec_rf_s_tr))\n",
    "print(\"The validation accuracy of the random forest on the spam dataset is \" + str(rec_rf_s_acc))"
   ]
  },
  {
   "cell_type": "code",
   "execution_count": 194,
   "metadata": {},
   "outputs": [],
   "source": [
    "kag_dt_s = DecisionTree(max_depth=5, feature_labels=features)\n",
    "kag_dt_s.fit(spam_train, spam_labels)\n",
    "kag_dt_s_pred = kag_dt_s.predict(spam_test).astype(int)\n",
    "kag_spam = pd.DataFrame(kag_dt_s_pred, np.arange(1, len(kag_dt_s_pred) + 1))\n",
    "kag_spam.reset_index(level=0, inplace=True)\n",
    "kag_spam.to_csv(\"spam_pred\", header=[\"Id\", \"Category\"], index=False)\n",
    "\n",
    "kag_dt_t = DecisionTree(max_depth=5, feature_labels=titanic_X.columns)\n",
    "kag_dt_t.fit(titanic_X.values, titanic_labels)\n",
    "kag_dt_t_pred = kag_dt_t.predict(titanic_test.values).astype(int)\n",
    "kag_titanic = pd.DataFrame(kag_dt_t_pred, np.arange(1, len(kag_dt_t_pred) + 1))\n",
    "kag_titanic.reset_index(level=0, inplace=True)\n",
    "kag_titanic.to_csv(\"titanic_pred\", header=[\"Id\", \"Category\"], index=False)"
   ]
  },
  {
   "cell_type": "markdown",
   "metadata": {},
   "source": [
    "### Kaggle Scores\n",
    "\n",
    "Display Name: Sarah Nam\n",
    "\n",
    "Titanic Kaggle Score: 0.78709\n",
    "\n",
    "Spam Kaggle Score: 0.78572\n",
    "(Note: Spam model was trained with max depth 11 for the kaggle submission.)"
   ]
  },
  {
   "cell_type": "code",
   "execution_count": 203,
   "metadata": {},
   "outputs": [],
   "source": [
    "# Cross-validation to select hyperparameters for spam\n",
    "depths = [3, 5, 8, 11, 14, 17, 20, 19]\n",
    "\n",
    "# Splitting for k-fold cross-validation for hyperparameter tuning\n",
    "# Referencing code from https://scikit-learn.org/stable/modules/generated/sklearn.model_selection.KFold.html\n",
    "kf_s = sklearn.model_selection.KFold(n_splits=8, random_state=50, shuffle=True)\n",
    "\n",
    "train_acc_avg = []\n",
    "test_acc_avg = []\n",
    "\n",
    "for i in depths:\n",
    "    train_accs = []\n",
    "    test_accs = []\n",
    "    for train_index, test_index,  in kf_s.split(spam_train):\n",
    "        X_train, X_test = spam_train[train_index], spam_train[test_index]\n",
    "        y_train, y_test = spam_labels[train_index], spam_labels[test_index]\n",
    "        treetr = DecisionTree(max_depth=i, feature_labels=features)\n",
    "        treetr.fit(X_train, y_train)\n",
    "        train_acc = np.sum(treetr.predict(X_train) == y_train)/len(y_train)\n",
    "        test_acc = np.sum(treetr.predict(X_test) == y_test)/len(y_test)\n",
    "        train_accs.append(train_acc)\n",
    "        test_accs.append(test_acc)\n",
    "    train_acc_avg.append(np.mean(train_accs))\n",
    "    test_acc_avg.append(np.mean(test_accs))"
   ]
  },
  {
   "cell_type": "code",
   "execution_count": 216,
   "metadata": {},
   "outputs": [
    {
     "data": {
      "text/plain": [
       "<matplotlib.legend.Legend at 0x17eaae85d30>"
      ]
     },
     "execution_count": 216,
     "metadata": {},
     "output_type": "execute_result"
    },
    {
     "data": {
      "image/png": "[encoded data removed]",
      "text/plain": [
       "<Figure size 432x288 with 1 Axes>"
      ]
     },
     "metadata": {
      "needs_background": "light"
     },
     "output_type": "display_data"
    }
   ],
   "source": [
    "plt.plot(depths, train_acc_avg, label=\"Training Accuracy\")\n",
    "plt.plot(depths, test_acc_avg, label='Validation Accuracy')\n",
    "plt.title(\"Training and Validation Accuracy for Different Depth Trees for Spam\")\n",
    "plt.ylabel('Accuracy')\n",
    "plt.xlabel('Max Depth of Tree')\n",
    "plt.legend()"
   ]
  },
  {
   "cell_type": "code",
   "execution_count": 218,
   "metadata": {},
   "outputs": [],
   "source": [
    "# redoing the kaggle for the spam, since it didn't meet the Kaggle cutoff\n",
    "# best depth by validation was 11\n",
    "kag_dt_s_2 = DecisionTree(max_depth=11, feature_labels=features)\n",
    "kag_dt_s_2.fit(spam_train, spam_labels)\n",
    "kag_dt_s_pred2 = kag_dt_s_2.predict(spam_test).astype(int)\n",
    "kag_spam_2 = pd.DataFrame(kag_dt_s_pred2, np.arange(1, len(kag_dt_s_pred2) + 1))\n",
    "kag_spam_2.reset_index(level=0, inplace=True)\n",
    "kag_spam_2.to_csv(\"spam_pred2\", header=[\"Id\", \"Category\"], index=False)"
   ]
  },
  {
   "cell_type": "markdown",
   "metadata": {},
   "source": [
    "### 3.5.2"
   ]
  },
  {
   "cell_type": "code",
   "execution_count": 191,
   "metadata": {},
   "outputs": [
    {
     "name": "stdout",
     "output_type": "stream",
     "text": [
      "My split feature is exclamation and the threshold is 1e-05\n",
      "My split feature is meter and the threshold is 1e-05\n",
      "My split feature is ampersand and the threshold is 1e-05\n",
      "My split feature is parenthesis and the threshold is 1e-05\n",
      "I am a leaf and my prediction is 0\n",
      "My split feature is meter and the threshold is 1e-05\n",
      "My split feature is money and the threshold is 1e-05\n",
      "My split feature is pain and the threshold is 1e-05\n",
      "My split feature is private and the threshold is 1e-05\n",
      "My split feature is volumes and the threshold is 1e-05\n",
      "I am a leaf and my prediction is 0\n",
      "My split feature is dollar and the threshold is 13.888887777777777\n",
      "My split feature is dollar and the threshold is 1e-05\n",
      "My split feature is ampersand and the threshold is 1e-05\n",
      "My split feature is square_bracket and the threshold is 1e-05\n",
      "My split feature is differ and the threshold is 1e-05\n",
      "My split feature is ampersand and the threshold is 1e-05\n",
      "My split feature is money and the threshold is 1e-05\n",
      "I am a leaf and my prediction is 0\n",
      "My split feature is prescription and the threshold is 1.11111\n",
      "My split feature is other and the threshold is 1e-05\n",
      "I am a leaf and my prediction is 1\n",
      "My split feature is creative and the threshold is 1e-05\n",
      "I am a leaf and my prediction is 0\n",
      "I am a leaf and my prediction is 0\n",
      "I am a leaf and my prediction is 1\n",
      "I am a leaf and my prediction is 0\n",
      "I am a leaf and my prediction is 0\n",
      "I am a leaf and my prediction is 1\n",
      "I am a leaf and my prediction is 1\n",
      "I am a leaf and my prediction is 0\n",
      "I am a leaf and my prediction is 1\n",
      "I am a leaf and my prediction is 1\n",
      "I am a leaf and my prediction is 0\n",
      "I am a leaf and my prediction is 1\n",
      "I am a leaf and my prediction is 1\n",
      "I am a leaf and my prediction is 0\n",
      "I am a leaf and my prediction is 0\n",
      "I am a leaf and my prediction is 1\n"
     ]
    }
   ],
   "source": [
    "# Breadth-First Search of a Decision Tree for Spam\n",
    "def walk_tree(tree):\n",
    "    queue = [tree]\n",
    "    while queue:\n",
    "        pointer = queue.pop(0)\n",
    "        if not pointer.left and not pointer.right:\n",
    "            print(\"I am a leaf and my prediction is \" + str(pointer.pred))\n",
    "        else:\n",
    "            print(\"My split feature is \" + str(features[pointer.split_idx]) \n",
    "              + \" and the threshold is \" + str(pointer.thresh))\n",
    "        if pointer.left:\n",
    "            queue.append(pointer.left)\n",
    "        if pointer.right:\n",
    "            queue.append(pointer.right)\n",
    "walk_tree(kag_dt_s)"
   ]
  },
  {
   "cell_type": "markdown",
   "metadata": {},
   "source": [
    "### 3.5.3"
   ]
  },
  {
   "cell_type": "code",
   "execution_count": 261,
   "metadata": {},
   "outputs": [],
   "source": [
    "# Reusing my hyperparameter tuning from above\n",
    "# Cross-validation to select hyperparameters for spam\n",
    "depths = [1, 3, 5, 8, 11, 14, 17, 20, 23, 26, 29, 32, 35, 38, 40]\n",
    "\n",
    "train_acc_3 = []\n",
    "test_acc_3 = []\n",
    "\n",
    "for i in depths:\n",
    "    treetr = DecisionTree(max_depth=i, feature_labels=features)\n",
    "    X_train, X_test, y_train, y_test = sklearn.model_selection.train_test_split(\n",
    "                                        spam_train, spam_labels, test_size=0.20, random_state=90)\n",
    "    treetr.fit(X_train, y_train)\n",
    "    train_acc = np.sum(treetr.predict(X_train) == y_train)/len(y_train)\n",
    "    test_acc = np.sum(treetr.predict(X_test) == y_test)/len(y_test)\n",
    "    train_acc_3.append(train_acc)\n",
    "    test_acc_3.append(test_acc)"
   ]
  },
  {
   "cell_type": "code",
   "execution_count": 263,
   "metadata": {},
   "outputs": [
    {
     "data": {
      "text/plain": [
       "<matplotlib.legend.Legend at 0x17eaa999390>"
      ]
     },
     "execution_count": 263,
     "metadata": {},
     "output_type": "execute_result"
    },
    {
     "data": {
      "image/png": "[encoded data removed]",
      "text/plain": [
       "<Figure size 432x288 with 1 Axes>"
      ]
     },
     "metadata": {
      "needs_background": "light"
     },
     "output_type": "display_data"
    }
   ],
   "source": [
    "plt.plot(depths, train_acc_3, label=\"Training Accuracy\")\n",
    "plt.plot(depths, test_acc_3, label='Validation Accuracy')\n",
    "plt.title(\"Training and Validation Accuracy for Different Depth Trees for Spam\")\n",
    "plt.ylabel('Accuracy')\n",
    "plt.xlabel('Max Depth of Tree')\n",
    "plt.legend()"
   ]
  },
  {
   "cell_type": "markdown",
   "metadata": {},
   "source": [
    "### 3.6"
   ]
  },
  {
   "cell_type": "code",
   "execution_count": 270,
   "metadata": {},
   "outputs": [
    {
     "name": "stdout",
     "output_type": "stream",
     "text": [
      "My split feature is sex_female and the threshold is 1e-05\n",
      "My split feature is age and the threshold is 9.259296666666668\n",
      "My split feature is pclass and the threshold is 2.11111\n",
      "My split feature is sibsp and the threshold is 1.111116666666667\n",
      "My split feature is pclass and the threshold is 1.00001\n",
      "My split feature is age and the threshold is 59.31481666666667\n",
      "My split feature is fare and the threshold is 27.816669999999995\n",
      "My split feature is pclass and the threshold is 2.11111\n",
      "I am a leaf and my prediction is 0.0\n",
      "My split feature is age and the threshold is 56.99999666666666\n",
      "My split feature is parch and the threshold is 1.0000077777777778\n",
      "My split feature is embarked_S and the threshold is 1e-05\n",
      "My split feature is pclass and the threshold is 1.00001\n",
      "My split feature is age and the threshold is 26.185198888888884\n",
      "My split feature is age and the threshold is 7.111118888888889\n",
      "I am a leaf and my prediction is 1.0\n",
      "I am a leaf and my prediction is 1.0\n",
      "I am a leaf and my prediction is 0.0\n",
      "I am a leaf and my prediction is 0.0\n",
      "I am a leaf and my prediction is 0.0\n",
      "I am a leaf and my prediction is 0.0\n",
      "I am a leaf and my prediction is 1.0\n",
      "I am a leaf and my prediction is 1.0\n",
      "I am a leaf and my prediction is 1.0\n",
      "I am a leaf and my prediction is 0.0\n",
      "I am a leaf and my prediction is 1.0\n",
      "I am a leaf and my prediction is 0.0\n",
      "I am a leaf and my prediction is 0.0\n",
      "I am a leaf and my prediction is 0.0\n"
     ]
    }
   ],
   "source": [
    "# Breadth-First Search of Titanic Decision Trees to help me Draw\n",
    "def walk_titanic(tree):\n",
    "    queue = [tree]\n",
    "    while queue:\n",
    "        pointer = queue.pop(0)\n",
    "        if not pointer.left and not pointer.right:\n",
    "            print(\"I am a leaf and my prediction is \" + str(pointer.pred))\n",
    "        else:\n",
    "            print(\"My split feature is \" + str(titanic_X.columns[pointer.split_idx]) \n",
    "              + \" and the threshold is \" + str(pointer.thresh))\n",
    "        if pointer.left:\n",
    "            queue.append(pointer.left)\n",
    "        if pointer.right:\n",
    "            queue.append(pointer.right)\n",
    "tree3_6 = DecisionTree(max_depth=4, feature_labels=titanic_X.columns)\n",
    "tree3_6.fit(titanic_X.values, titanic_labels)\n",
    "walk_titanic(tree3_6)"
   ]
  },
  {
   "cell_type": "code",
   "execution_count": null,
   "metadata": {},
   "outputs": [],
   "source": []
  }
 ],
 "metadata": {
  "kernelspec": {
   "display_name": "Python 3",
   "language": "python",
   "name": "python3"
  },
  "language_info": {
   "codemirror_mode": {
    "name": "ipython",
    "version": 3
   },
   "file_extension": ".py",
   "mimetype": "text/x-python",
   "name": "python",
   "nbconvert_exporter": "python",
   "pygments_lexer": "ipython3",
   "version": "3.7.3"
  }
 },
 "nbformat": 4,
 "nbformat_minor": 2
}
